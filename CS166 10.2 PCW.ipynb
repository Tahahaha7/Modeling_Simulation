{
 "cells": [
  {
   "cell_type": "markdown",
   "metadata": {},
   "source": [
    "# Random numbers from simulations"
   ]
  },
  {
   "cell_type": "markdown",
   "metadata": {},
   "source": [
    "## Shonkwiler Exercise 2.14: Sampling bias for bus waiting times\n",
    "Suppose the interarrival time for a city bus has an exponential distribution with parameter 1/λ. A passenger arrives at a uniformly random time and records the time until the next bus arrives. What is the expected waiting time? Use a simulation to get an answer. Is the answer surprising? Now suppose instead that the interarrival time is U(0, 2λ). How does this change the situation? (Notice that the expected interarrival time is λ in both cases.)\n",
    "\n",
    "Since the exponential distribution is memoryless, the passenger's arrival time doesn't factor in and the expected arrival time is the mean of the distribution, 1/λ. This is confirmed by my simulation below.\n",
    "\n",
    "For a uniform distribution, the passenger's wait time is a difference between two independent variables from uniform distributions, buss arrival and passenger arrival. According to the simulation below, the wait time corresponds to 2λ/3."
   ]
  },
  {
   "cell_type": "code",
   "execution_count": 1,
   "metadata": {},
   "outputs": [
    {
     "name": "stdout",
     "output_type": "stream",
     "text": [
      "Average wait time with exponential distribution: 0.9966352750779495\n",
      "Average wait time with uniform distribution: 0.6677773654822736\n"
     ]
    }
   ],
   "source": [
    "import numpy as np\n",
    "\n",
    "trials = 100000\n",
    "busses= 100000\n",
    "lamb = 1\n",
    "\n",
    "interarrival_times_exp = np.cumsum(np.random.exponential(1/lamb,busses))\n",
    "observed_times_exp = []\n",
    "for i in range(trials):\n",
    "    passenger_arrival_time = np.random.uniform(0, interarrival_times_exp[-1])\n",
    "    arrived_after = interarrival_times_exp.searchsorted(passenger_arrival_time)\n",
    "    wait_time = interarrival_times_exp[arrived_after]-passenger_arrival_time\n",
    "    observed_times_exp.append(wait_time)\n",
    "    \n",
    "print(\"Average wait time with exponential distribution: \"+str(np.mean(observed_times_exp)))\n",
    "\n",
    "interarrival_times_uni = np.cumsum(np.random.uniform(0,2*lamb,busses))\n",
    "observed_times_uni = []\n",
    "for i in range(trials):\n",
    "    passenger_arrival_time = np.random.uniform(0, interarrival_times_uni[-1])\n",
    "    arrived_after = interarrival_times_uni.searchsorted(passenger_arrival_time)\n",
    "    wait_time = interarrival_times_uni[arrived_after]-passenger_arrival_time\n",
    "    observed_times_uni.append(wait_time)\n",
    "    \n",
    "print(\"Average wait time with uniform distribution: \"+str(np.mean(observed_times_uni)))"
   ]
  },
  {
   "cell_type": "markdown",
   "metadata": {},
   "source": [
    "## Shonkweiler Exercise 2.24: Retirement benefit projection\n",
    "At age 50 Fannie Mae has 150,000 USD invested and will be investing another 10,000 USD per year until age 70. Each year the investment grows according to an interest rate that is normally distributed with mean 8% and standard deviation 9%. At age 70, Fannie Mae then retires and withdraws 65,000 USD per year until death. Below is given a conditional death probability table. Thus if Fannie Mae lives until age 70, then the probability of dying before age 71 is 0.04979. Simulate this process 1000 times and histogram the amount of money Fannie Mae has at death."
   ]
  },
  {
   "cell_type": "code",
   "execution_count": null,
   "metadata": {},
   "outputs": [],
   "source": []
  }
 ],
 "metadata": {
  "kernelspec": {
   "display_name": "Python 3",
   "language": "python",
   "name": "python3"
  },
  "language_info": {
   "codemirror_mode": {
    "name": "ipython",
    "version": 3
   },
   "file_extension": ".py",
   "mimetype": "text/x-python",
   "name": "python",
   "nbconvert_exporter": "python",
   "pygments_lexer": "ipython3",
   "version": "3.7.1"
  }
 },
 "nbformat": 4,
 "nbformat_minor": 2
}
