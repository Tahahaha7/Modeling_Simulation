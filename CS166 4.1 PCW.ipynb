{
 "cells": [
  {
   "cell_type": "markdown",
   "metadata": {},
   "source": [
    "# Traffic Simulation"
   ]
  },
  {
   "cell_type": "markdown",
   "metadata": {},
   "source": [
    "### Notes from the readings:\n",
    "\n",
    "<code>Original paper</code> \n",
    "- Nagel, K., Schreckenberg, M. (1992). A cellular automaton model for freeway traffic.  Journal de Physique I, 2(12), 2221–2229. Retrieved from: https://course-resources.minerva.kgi.edu/uploaded_files/mke/YpqvNV/nagel-schreckenberg.pdf\n",
    "\n",
    "The update of the system consists of the following steps:\n",
    "1. Acceleration: if the velocity $v$ is lower than $v_{max}$ and if the distance to the next car ahead is larger than $v+1$, the speed is advanced by one $v \\rightarrow v+1$\n",
    "2. Slowing down (due to other cars): if a vehicle at site $i$ sees the next vehicle at site $i+j$ (with $j\\leq v$), it reduces the speed to $j-1$ as $v \\rightarrow j-1$\n",
    "3. Randomization: with probability $p$, the velocity of each vehicle (if greater than zero) is decreased by one $v \\rightarrow v-1$\n",
    "4. Car motion: each vehicle is advanced $v$ sites."
   ]
  },
  {
   "cell_type": "code",
   "execution_count": 243,
   "metadata": {},
   "outputs": [],
   "source": [
    "# Importing packages\n",
    "import numpy as np\n",
    "import random as rn\n",
    "import seaborn as sns\n",
    "from matplotlib import rc\n",
    "import matplotlib.pyplot as plt\n",
    "\n",
    "rc('font', **{'family': 'serif', \n",
    "              'serif': ['Computer Modern'], 'size': 16})\n",
    "rc('text', usetex=True)"
   ]
  },
  {
   "cell_type": "code",
   "execution_count": 262,
   "metadata": {},
   "outputs": [],
   "source": [
    "class TrafficSimulation:  \n",
    "    def __init__(self, length, density, v_max, p_slow):\n",
    "        \n",
    "        self.length = length   # Road length\n",
    "        self.density = density # Traffic density\n",
    "        self.v_max = v_max     # Maximum velocity\n",
    "        self.p_slow = p_slow   # The probability of slowing down\n",
    "        \n",
    "        self.state = self.initialize_state()\n",
    "        \n",
    "    def initialize_state(self):\n",
    "        state = np.full(self.length, -1)\n",
    "        for _ in range(self.length):\n",
    "            if rn.random() <= self.density:\n",
    "                state[_] = 0\n",
    "        return state\n",
    "    \n",
    "    def accelerate(self, cell):\n",
    "        if cell in range(5): cell+=1\n",
    "        return cell\n",
    "    \n",
    "    def decelerate(self, idx, cell):\n",
    "        if cell>0:\n",
    "            space = 0\n",
    "            horizon = np.concatenate([self.state[idx+1:], \n",
    "                                      self.state[0:idx-1]])\n",
    "            for next_cell in horizon[0:5]:\n",
    "                if next_cell>-1: \n",
    "                    break \n",
    "                else: \n",
    "                    space+=1\n",
    "            if space<cell: cell=space\n",
    "        return cell\n",
    "    \n",
    "    def randomize(self, cell):\n",
    "        if cell>0 and rn.random() <= self.p_slow: cell-=1\n",
    "        return cell\n",
    "    \n",
    "    def move(self):\n",
    "        new_state = np.full(self.length, -1)\n",
    "        for idx,cell in enumerate(self.state):\n",
    "            if cell>-1: new_state[(idx+cell)%self.length]=cell\n",
    "        self.state = new_state\n",
    "    \n",
    "    def update(self): \n",
    "        self.display()\n",
    "        for _ in range(len(self.state)):\n",
    "            self.state[_] = self.accelerate(self.state[_])\n",
    "            self.state[_] = self.decelerate(_, self.state[_])\n",
    "            self.state[_] = self.randomize(self.state[_])\n",
    "        self.move()\n",
    "        \n",
    "    def output(self, steps):\n",
    "        states = []\n",
    "        for i in range(steps):\n",
    "            states.append(self.update())\n",
    "            \n",
    "    def display(self):\n",
    "        print(''.join('.' if x == -1 else str(x) for x in self.state))"
   ]
  },
  {
   "cell_type": "markdown",
   "metadata": {},
   "source": [
    "Use the following model parameters for the first figure.\n",
    "- Road length: 100\n",
    "- Traffic density: 0.03\n",
    "- Maximum velocity: 5\n",
    "- Probability of slowing down: 0.5\n",
    "\n",
    "\n",
    "Use these model parameters for the second figure. (The traffic density is different.)\n",
    "- Road length: 100\n",
    "- Traffic density: 0.1\n",
    "- Maximum velocity: 5\n",
    "- Probability of slowing down: 0.5"
   ]
  },
  {
   "cell_type": "code",
   "execution_count": 249,
   "metadata": {},
   "outputs": [
    {
     "name": "stdout",
     "output_type": "stream",
     "text": [
      ".........0................0..........................0....0.........................................\n",
      ".........0................0..........................0.....1........................................\n",
      ".........0................0..........................0.......2......................................\n",
      "..........1...............0...........................1........2....................................\n",
      "............2..............1............................2........2..................................\n",
      "..............2..............2............................2.........3...............................\n",
      ".................3.............2............................2..........3............................\n",
      ".....................4...........2............................2............4........................\n",
      ".........................4.........2.............................3..............5...................\n",
      ".............................4.......2...............................4...............5..............\n",
      "..................................5.....3.................................5..............4..........\n",
      "......................................4.....4..................................5.............4......\n",
      "..........................................4.....4..................................4.............4..\n",
      ".4............................................4.....4..................................4............\n",
      ".....4.............................................5....4...................................5.......\n",
      ".........4.............................................4.....5..................................4...\n",
      "4............4..............................................5....4..................................\n",
      "....4............4..............................................4.....5.............................\n",
      "........4............4...............................................5.....5........................\n",
      "............4.............5...............................................5.....5...................\n"
     ]
    }
   ],
   "source": [
    "TrafficSimulation(100, 0.05, 5, 0.5).output(20)"
   ]
  },
  {
   "cell_type": "code",
   "execution_count": 261,
   "metadata": {},
   "outputs": [
    {
     "name": "stdout",
     "output_type": "stream",
     "text": [
      "....0..0...................0..................0.......0.0..0.....00..0....0..0.0.00..0......0..0....\n",
      "....0...1...................1.................0.......0..1..1....00...1...0..0..10.1.0......0..0....\n",
      ".....1...1....................2...............0.......0....2..2..0.1...1..0..0..00..1.1.....0...1...\n",
      "......1....2....................2..............1.......1....1..1..1..2...2.1.0..00..0..1....0.....2.\n",
      "2......1......3....................3.............2......1....1...2.1...2..1.1.1.0.1.0...1...0.......\n",
      "...3....1.........4...................3.............3....1....1..0...2..1.0..10..10.0....1...1......\n",
      ".......4..2...........4...................4............3..1.....2.1...1..10..00..00.0......2..1.....\n",
      ".........2...3.............5...................5........1...2...0..1....20.1.0.1.0.1.1......1..1....\n",
      "...........2....3..............4...................4......2....30....2..0.1.10..1.10...2.....1..1...\n",
      "..............3.....4..............4....................5...2..0.1.....2.10.00..0.00......3...1...2.\n",
      "2................3.......5..............5.................2..1.0...2....100.0.1..100.........3.1....\n",
      "...3................3.........5..............5.............1.0..1.....3.00.10..1.00.1.........1.1...\n",
      "......3.................4..........5..............5.........10....2...0.0.10.1.0.0.1..2.......0..1..\n",
      "..........4..................5.........4..............4.....0.1.....2..1.100.0..1.1..2..2......1..1.\n",
      "2.............4...................5.........5.............4..1.1......20.00.10..0...2..2..2......2..\n",
      "..2................5..................4.........4...........2.1.1.....0.100.00...1...1...2...3....1.\n",
      "2....3..................5.................4..........5.......10...2....100.10.1...1....2....3....4..\n",
      "..2......4..................4.................4..........4...00.....2..000.0.1..2..1.....2.....3...2\n",
      ".2..2........4...................5.................5........300.......2000.0..1..1...2.....2.....2..\n",
      "...2...3..........5...................5.................5...00.1......000.1.1...2.1....2......3....2\n"
     ]
    }
   ],
   "source": [
    "TrafficSimulation(100, 0.1, 5, 0.5).output(20)"
   ]
  },
  {
   "cell_type": "code",
   "execution_count": null,
   "metadata": {},
   "outputs": [],
   "source": []
  }
 ],
 "metadata": {
  "kernelspec": {
   "display_name": "Python 3",
   "language": "python",
   "name": "python3"
  },
  "language_info": {
   "codemirror_mode": {
    "name": "ipython",
    "version": 3
   },
   "file_extension": ".py",
   "mimetype": "text/x-python",
   "name": "python",
   "nbconvert_exporter": "python",
   "pygments_lexer": "ipython3",
   "version": "3.7.1"
  }
 },
 "nbformat": 4,
 "nbformat_minor": 2
}
