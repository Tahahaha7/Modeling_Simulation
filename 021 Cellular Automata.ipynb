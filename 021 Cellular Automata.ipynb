{
 "cells": [
  {
   "cell_type": "markdown",
   "metadata": {},
   "source": [
    "### Task: Run and analyze an existing cellular automaton\n",
    "\n",
    "* The code below implements the traffic simulator you saw in the previous activity.\n",
    "* We use Sayama's pycxsimulator library to step through the cellular automaton simulation, which means that you can run this same code on your own computer.\n",
    "* Run the code below.\n"
   ]
  },
  {
   "cell_type": "code",
   "execution_count": 1,
   "metadata": {},
   "outputs": [],
   "source": [
    "interactive = False  # Set this variable to True to run an interactive\n",
    "                     # simulator. This will not work on CoCalc.\n",
    "\n",
    "import matplotlib\n",
    "if interactive:\n",
    "    matplotlib.use('TkAgg')\n",
    "\n",
    "import pylab\n",
    "import random\n",
    "import numpy as np"
   ]
  },
  {
   "cell_type": "code",
   "execution_count": 2,
   "metadata": {},
   "outputs": [],
   "source": [
    "class TrafficSimulator(object):\n",
    "\n",
    "    # Mapping from the current state of a cell's neighborhood to the next state\n",
    "    # of the cell. This corresponds to Wolfram's Rule 184.\n",
    "    ca_map = {\n",
    "        (0, 0, 0): 0,\n",
    "        (0, 0, 1): 0,\n",
    "        (0, 1, 0): 0,\n",
    "        (0, 1, 1): 1,\n",
    "        (1, 0, 0): 1,\n",
    "        (1, 0, 1): 1,\n",
    "        (1, 1, 0): 0,\n",
    "        (1, 1, 1): 1}\n",
    "\n",
    "    def __init__(self, length=50, density=0.2, interactive=False):\n",
    "        '''\n",
    "        Initialize new TrafficSimulator objects with the default parameter\n",
    "        settings.\n",
    "\n",
    "        Inputs:\n",
    "\n",
    "         * length (int) The number of cells in the cellular automaton.\n",
    "           Default: 50.\n",
    "\n",
    "         * density (float) The proportion of cells that will be active (contain\n",
    "           a car) when the cellular automaton is initialized. The active cells\n",
    "           will be at random locations along the length of the CA. Default: 0.2.\n",
    "\n",
    "         * interactive (bool) Whether or not we are running an interactive\n",
    "           simulation. In CoCalc we have to run in non-interactive mode (False),\n",
    "           but in your local Python environment you should be able to run in\n",
    "           interactive mode (True). Default: False.\n",
    "\n",
    "        '''\n",
    "        self.interactive = interactive\n",
    "        self.length = length\n",
    "        self.density = density\n",
    "\n",
    "        # Arrays for storing the current state and the next state (when we are\n",
    "        # busy doing a state update).\n",
    "        self.current_state = np.zeros(self.length)\n",
    "        self.next_state = np.zeros(self.length)\n",
    "\n",
    "    def initialize(self):\n",
    "        '''\n",
    "        This will be called by the interactive pycxsimulator whenever the Reset\n",
    "        button is clicked.\n",
    "        '''\n",
    "        # Set up a random initial state where the fraction of 1s in the array\n",
    "        # equals the density parameter.\n",
    "        random_indices = np.random.choice(\n",
    "            range(self.length),\n",
    "            size=int(round(self.density * self.length)),\n",
    "            replace=False)\n",
    "        self.current_state.fill(0)\n",
    "        self.current_state[random_indices] = 1\n",
    "\n",
    "        self.time = 0\n",
    "\n",
    "    def draw(self):\n",
    "        '''\n",
    "        Draw the current state of the cellular automaton.\n",
    "        '''\n",
    "        if self.interactive:\n",
    "            pylab.cla()  # Clear the current figure\n",
    "        else:\n",
    "            pylab.figure()  # Create a new figure\n",
    "        pylab.pcolor(\n",
    "            self.current_state.reshape((1, self.length)),\n",
    "            vmin = 0,\n",
    "            vmax = 1,\n",
    "            cmap = pylab.cm.binary)\n",
    "        pylab.axis('image')\n",
    "        pylab.title('density = ' + str(self.density) + '; t = ' + str(self.time))\n",
    "        if not self.interactive:\n",
    "            pylab.show()\n",
    "\n",
    "    def step(self):\n",
    "        '''\n",
    "        Update the state of the cellular automaton.\n",
    "        '''\n",
    "        # Update all cells, except the boundaries.\n",
    "        for i in range(1, self.length - 1):\n",
    "            neighborhood = self.current_state[i-1:i+2]\n",
    "            self.next_state[i] = self.ca_map[tuple(neighborhood)]\n",
    "        # Update the boundaries using periodic boundary conditions.\n",
    "        neighborhood = self.current_state[[-1, 0, 1]]\n",
    "        self.next_state[0] = self.ca_map[tuple(neighborhood)]\n",
    "        neighborhood = self.current_state[[-2, -1, 0]]\n",
    "        self.next_state[-1] = self.ca_map[tuple(neighborhood)]\n",
    "        # Swap next state and current state\n",
    "        self.current_state, self.next_state = self.next_state, self.current_state\n",
    "        self.time += 1\n",
    "\n",
    "    def set_density(self, value=None):\n",
    "        '''\n",
    "        The density of cars on the road. Only affects initialization (reset) of\n",
    "        the simulation. The density must be a value between 0 and 1.\n",
    "        '''\n",
    "        if value is not None:\n",
    "            self.density = min(1, max(0, float(value)))\n",
    "        return self.density"
   ]
  },
  {
   "cell_type": "code",
   "execution_count": 11,
   "metadata": {},
   "outputs": [],
   "source": [
    "def simulation(param):\n",
    "    sim = TrafficSimulator(density=param, interactive=interactive)\n",
    "    if interactive:\n",
    "        # Set up the interactive user interface.\n",
    "        import pycxsimulator\n",
    "        gui = pycxsimulator.GUI(parameterSetters=[sim.set_density])\n",
    "        gui.start(func=[sim.initialize, sim.draw, sim.step])\n",
    "    else:\n",
    "        # Run the simulator for 100 steps and show some of the steps.\n",
    "        print('\\n#################### Initial state ####################')\n",
    "        sim.initialize()\n",
    "        sim.draw()\n",
    "\n",
    "        print('Next 5 states:')\n",
    "        for i in range(5):\n",
    "            sim.step()\n",
    "            sim.draw()\n",
    "            print('')\n",
    "\n",
    "        print('After 100 steps:')\n",
    "        for i in range(95):\n",
    "            sim.step()\n",
    "        sim.draw()"
   ]
  },
  {
   "cell_type": "code",
   "execution_count": 12,
   "metadata": {
    "scrolled": false
   },
   "outputs": [
    {
     "name": "stdout",
     "output_type": "stream",
     "text": [
      "\n",
      "#################### Initial state ####################\n"
     ]
    },
    {
     "data": {
      "image/png": "[encoded data removed]",
      "text/plain": [
       "<Figure size 432x288 with 1 Axes>"
      ]
     },
     "metadata": {
      "needs_background": "light"
     },
     "output_type": "display_data"
    },
    {
     "name": "stdout",
     "output_type": "stream",
     "text": [
      "Next 5 states:\n"
     ]
    },
    {
     "data": {
      "image/png": "[encoded data removed]",
      "text/plain": [
       "<Figure size 432x288 with 1 Axes>"
      ]
     },
     "metadata": {
      "needs_background": "light"
     },
     "output_type": "display_data"
    },
    {
     "name": "stdout",
     "output_type": "stream",
     "text": [
      "\n"
     ]
    },
    {
     "data": {
      "image/png": "[encoded data removed]",
      "text/plain": [
       "<Figure size 432x288 with 1 Axes>"
      ]
     },
     "metadata": {
      "needs_background": "light"
     },
     "output_type": "display_data"
    },
    {
     "name": "stdout",
     "output_type": "stream",
     "text": [
      "\n"
     ]
    },
    {
     "data": {
      "image/png": "[encoded data removed]",
      "text/plain": [
       "<Figure size 432x288 with 1 Axes>"
      ]
     },
     "metadata": {
      "needs_background": "light"
     },
     "output_type": "display_data"
    },
    {
     "name": "stdout",
     "output_type": "stream",
     "text": [
      "\n"
     ]
    },
    {
     "data": {
      "image/png": "[encoded data removed]",
      "text/plain": [
       "<Figure size 432x288 with 1 Axes>"
      ]
     },
     "metadata": {
      "needs_background": "light"
     },
     "output_type": "display_data"
    },
    {
     "name": "stdout",
     "output_type": "stream",
     "text": [
      "\n"
     ]
    },
    {
     "data": {
      "image/png": "[encoded data removed]",
      "text/plain": [
       "<Figure size 432x288 with 1 Axes>"
      ]
     },
     "metadata": {
      "needs_background": "light"
     },
     "output_type": "display_data"
    },
    {
     "name": "stdout",
     "output_type": "stream",
     "text": [
      "\n",
      "After 100 steps:\n"
     ]
    },
    {
     "data": {
      "image/png": "[encoded data removed]",
      "text/plain": [
       "<Figure size 432x288 with 1 Axes>"
      ]
     },
     "metadata": {
      "needs_background": "light"
     },
     "output_type": "display_data"
    },
    {
     "name": "stdout",
     "output_type": "stream",
     "text": [
      "\n",
      "#################### Initial state ####################\n"
     ]
    },
    {
     "data": {
      "image/png": "[encoded data removed]",
      "text/plain": [
       "<Figure size 432x288 with 1 Axes>"
      ]
     },
     "metadata": {
      "needs_background": "light"
     },
     "output_type": "display_data"
    },
    {
     "name": "stdout",
     "output_type": "stream",
     "text": [
      "Next 5 states:\n"
     ]
    },
    {
     "data": {
      "image/png": "[encoded data removed]",
      "text/plain": [
       "<Figure size 432x288 with 1 Axes>"
      ]
     },
     "metadata": {
      "needs_background": "light"
     },
     "output_type": "display_data"
    },
    {
     "name": "stdout",
     "output_type": "stream",
     "text": [
      "\n"
     ]
    },
    {
     "data": {
      "image/png": "[encoded data removed]",
      "text/plain": [
       "<Figure size 432x288 with 1 Axes>"
      ]
     },
     "metadata": {
      "needs_background": "light"
     },
     "output_type": "display_data"
    },
    {
     "name": "stdout",
     "output_type": "stream",
     "text": [
      "\n"
     ]
    },
    {
     "data": {
      "image/png": "[encoded data removed]",
      "text/plain": [
       "<Figure size 432x288 with 1 Axes>"
      ]
     },
     "metadata": {
      "needs_background": "light"
     },
     "output_type": "display_data"
    },
    {
     "name": "stdout",
     "output_type": "stream",
     "text": [
      "\n"
     ]
    },
    {
     "data": {
      "image/png": "[encoded data removed]",
      "text/plain": [
       "<Figure size 432x288 with 1 Axes>"
      ]
     },
     "metadata": {
      "needs_background": "light"
     },
     "output_type": "display_data"
    },
    {
     "name": "stdout",
     "output_type": "stream",
     "text": [
      "\n"
     ]
    },
    {
     "data": {
      "image/png": "[encoded data removed]",
      "text/plain": [
       "<Figure size 432x288 with 1 Axes>"
      ]
     },
     "metadata": {
      "needs_background": "light"
     },
     "output_type": "display_data"
    },
    {
     "name": "stdout",
     "output_type": "stream",
     "text": [
      "\n",
      "After 100 steps:\n"
     ]
    },
    {
     "data": {
      "image/png": "[encoded data removed]",
      "text/plain": [
       "<Figure size 432x288 with 1 Axes>"
      ]
     },
     "metadata": {
      "needs_background": "light"
     },
     "output_type": "display_data"
    },
    {
     "name": "stdout",
     "output_type": "stream",
     "text": [
      "\n",
      "#################### Initial state ####################\n"
     ]
    },
    {
     "data": {
      "image/png": "[encoded data removed]",
      "text/plain": [
       "<Figure size 432x288 with 1 Axes>"
      ]
     },
     "metadata": {
      "needs_background": "light"
     },
     "output_type": "display_data"
    },
    {
     "name": "stdout",
     "output_type": "stream",
     "text": [
      "Next 5 states:\n"
     ]
    },
    {
     "data": {
      "image/png": "[encoded data removed]",
      "text/plain": [
       "<Figure size 432x288 with 1 Axes>"
      ]
     },
     "metadata": {
      "needs_background": "light"
     },
     "output_type": "display_data"
    },
    {
     "name": "stdout",
     "output_type": "stream",
     "text": [
      "\n"
     ]
    },
    {
     "data": {
      "image/png": "[encoded data removed]",
      "text/plain": [
       "<Figure size 432x288 with 1 Axes>"
      ]
     },
     "metadata": {
      "needs_background": "light"
     },
     "output_type": "display_data"
    },
    {
     "name": "stdout",
     "output_type": "stream",
     "text": [
      "\n"
     ]
    },
    {
     "data": {
      "image/png": "[encoded data removed]",
      "text/plain": [
       "<Figure size 432x288 with 1 Axes>"
      ]
     },
     "metadata": {
      "needs_background": "light"
     },
     "output_type": "display_data"
    },
    {
     "name": "stdout",
     "output_type": "stream",
     "text": [
      "\n"
     ]
    },
    {
     "data": {
      "image/png": "[encoded data removed]",
      "text/plain": [
       "<Figure size 432x288 with 1 Axes>"
      ]
     },
     "metadata": {
      "needs_background": "light"
     },
     "output_type": "display_data"
    },
    {
     "name": "stdout",
     "output_type": "stream",
     "text": [
      "\n"
     ]
    },
    {
     "data": {
      "image/png": "[encoded data removed]",
      "text/plain": [
       "<Figure size 432x288 with 1 Axes>"
      ]
     },
     "metadata": {
      "needs_background": "light"
     },
     "output_type": "display_data"
    },
    {
     "name": "stdout",
     "output_type": "stream",
     "text": [
      "\n",
      "After 100 steps:\n"
     ]
    },
    {
     "data": {
      "image/png": "[encoded data removed]",
      "text/plain": [
       "<Figure size 432x288 with 1 Axes>"
      ]
     },
     "metadata": {
      "needs_background": "light"
     },
     "output_type": "display_data"
    },
    {
     "name": "stdout",
     "output_type": "stream",
     "text": [
      "\n",
      "#################### Initial state ####################\n"
     ]
    },
    {
     "data": {
      "image/png": "[encoded data removed]",
      "text/plain": [
       "<Figure size 432x288 with 1 Axes>"
      ]
     },
     "metadata": {
      "needs_background": "light"
     },
     "output_type": "display_data"
    },
    {
     "name": "stdout",
     "output_type": "stream",
     "text": [
      "Next 5 states:\n"
     ]
    },
    {
     "data": {
      "image/png": "[encoded data removed]",
      "text/plain": [
       "<Figure size 432x288 with 1 Axes>"
      ]
     },
     "metadata": {
      "needs_background": "light"
     },
     "output_type": "display_data"
    },
    {
     "name": "stdout",
     "output_type": "stream",
     "text": [
      "\n"
     ]
    },
    {
     "data": {
      "image/png": "[encoded data removed]",
      "text/plain": [
       "<Figure size 432x288 with 1 Axes>"
      ]
     },
     "metadata": {
      "needs_background": "light"
     },
     "output_type": "display_data"
    },
    {
     "name": "stdout",
     "output_type": "stream",
     "text": [
      "\n"
     ]
    },
    {
     "data": {
      "image/png": "[encoded data removed]",
      "text/plain": [
       "<Figure size 432x288 with 1 Axes>"
      ]
     },
     "metadata": {
      "needs_background": "light"
     },
     "output_type": "display_data"
    },
    {
     "name": "stdout",
     "output_type": "stream",
     "text": [
      "\n"
     ]
    },
    {
     "data": {
      "image/png": "[encoded data removed]",
      "text/plain": [
       "<Figure size 432x288 with 1 Axes>"
      ]
     },
     "metadata": {
      "needs_background": "light"
     },
     "output_type": "display_data"
    },
    {
     "name": "stdout",
     "output_type": "stream",
     "text": [
      "\n"
     ]
    },
    {
     "data": {
      "image/png": "[encoded data removed]",
      "text/plain": [
       "<Figure size 432x288 with 1 Axes>"
      ]
     },
     "metadata": {
      "needs_background": "light"
     },
     "output_type": "display_data"
    },
    {
     "name": "stdout",
     "output_type": "stream",
     "text": [
      "\n",
      "After 100 steps:\n"
     ]
    },
    {
     "data": {
      "image/png": "[encoded data removed]",
      "text/plain": [
       "<Figure size 432x288 with 1 Axes>"
      ]
     },
     "metadata": {
      "needs_background": "light"
     },
     "output_type": "display_data"
    }
   ],
   "source": [
    "for _ in [.1, .25, .5, .75]:\n",
    "    simulation(_)"
   ]
  }
 ],
 "metadata": {
  "kernelspec": {
   "display_name": "Python 3",
   "language": "python",
   "name": "python3"
  },
  "language_info": {
   "codemirror_mode": {
    "name": "ipython",
    "version": 3
   },
   "file_extension": ".py",
   "mimetype": "text/x-python",
   "name": "python",
   "nbconvert_exporter": "python",
   "pygments_lexer": "ipython3",
   "version": "3.7.1"
  }
 },
 "nbformat": 4,
 "nbformat_minor": 1
}
