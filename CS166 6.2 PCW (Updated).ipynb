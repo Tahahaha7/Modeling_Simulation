{
 "cells": [
  {
   "cell_type": "markdown",
   "metadata": {},
   "source": [
    "### Epidemics on networks\n",
    "\n",
    "Below is code for generating an animation of the network epidemic model in the textbook, using the default parameter settings — both the infection and recovery rates are 0.5.\n",
    "\n",
    "Please **do not** try to analyze the `make_animation()` function below — it's not relevant to understanding the network model. It is however useful for generating animations inline in CoCalc / Jupyter notebooks, so feel free to reuse this code in your own work."
   ]
  },
  {
   "cell_type": "code",
   "execution_count": 1,
   "metadata": {},
   "outputs": [],
   "source": [
    "def make_animation(draw_function, frames, interval, filename=None,\n",
    "                   verbose=False, figure_params=None):\n",
    "    \"\"\"\n",
    "    Write an animated GIF to file using matplotlib and ImageMagick.\n",
    "\n",
    "    Inputs:\n",
    "\n",
    "        draw_function (callable) The function to call, once per frame,\n",
    "          to render to the current matplotlib figure. This function's call\n",
    "          signature must be\n",
    "\n",
    "            draw_function(current_frame_number, total_frame_count)\n",
    "\n",
    "          The first frame is 0 and the last frame is total_frame_count-1.\n",
    "\n",
    "        frames (int) The number of frames to generate.\n",
    "\n",
    "        interval (float) The number of milliseconds to wait between frames\n",
    "          in the animation. Set this to 40 for a fairly standard frame rate\n",
    "          of 25fps (1 second / 40 (milliseconds per frame) = 25 frames per\n",
    "          second).\n",
    "\n",
    "        filename (str) The path to the file to write to. If none is provided,\n",
    "          the animation will be written to a random filename, prefixed with\n",
    "          \"animate_\" in the current directory. Default: None.\n",
    "\n",
    "        verbose (bool) Whether to print the current frame number to the\n",
    "          console as the animation is being created. This will clear other\n",
    "          console output. Default: False.\n",
    "\n",
    "        figure_params (dict) The keyword arguments to pass to matplotlib\n",
    "          when creating a new figure for this animation. Use it to set the\n",
    "          figure size and other figure properties. Default: None.\n",
    "\n",
    "    Returns: A display object that will inject HTML for displaying the\n",
    "      animated GIF into the notebook.\n",
    "    \"\"\"\n",
    "    from matplotlib import pyplot, animation\n",
    "    from IPython.display import HTML, display, clear_output\n",
    "    import random\n",
    "\n",
    "    if filename is None:\n",
    "        filename = 'animate_%06i.gif' % random.randint(0, 999999)\n",
    "    # Create figure\n",
    "    if figure_params is None:\n",
    "        figure_params = {}\n",
    "    figure = pyplot.figure(**figure_params)\n",
    "    # Wrap draw_function if we need to print to console\n",
    "    if verbose:\n",
    "        old_draw_function = draw_function\n",
    "        def draw_function(current_frame_number, total_frame_count):\n",
    "            old_draw_function(current_frame_number, total_frame_count)\n",
    "            print('Processed frame', current_frame_number + 1, '/', total_frame_count)\n",
    "            clear_output(wait=True)\n",
    "            if current_frame_number + 1 == total_frame_count:\n",
    "                print('Writing animation to file...')\n",
    "                clear_output(wait=True)\n",
    "    # Generate animation\n",
    "    anim = animation.FuncAnimation(\n",
    "        figure, draw_function, frames=frames, interval=interval,\n",
    "        init_func=lambda: None, fargs=(frames,))\n",
    "    anim.save(filename, writer='imagemagick')\n",
    "    # Close the animation figure so the last frame does not get displayed\n",
    "    # in the notebook.\n",
    "    pyplot.close()\n",
    "    # Return display object for the animated GIF\n",
    "    return display(HTML('<img src=\"' + filename + '\">'))"
   ]
  },
  {
   "cell_type": "markdown",
   "metadata": {},
   "source": [
    "### The simulation\n",
    "The code below is cleaned up from the textbook with some extra code for generating a density plot. Run it to get an animation of the spread of the epidemic on the network. Generating these animations takes a bit of time, so please be patient."
   ]
  },
  {
   "cell_type": "code",
   "execution_count": 100,
   "metadata": {},
   "outputs": [],
   "source": [
    "import networkx as nx\n",
    "from matplotlib import rc\n",
    "import matplotlib.pyplot as plt\n",
    "\n",
    "rc('font',**{'family':'serif','serif':['Computer Modern'],'size': 16})\n",
    "rc('text', usetex=True)\n",
    "import random\n",
    "\n",
    "\n",
    "class SisSimulation:\n",
    "\n",
    "    def __init__(self, p_i=0.5, p_r=0.5, randomize_graph=0.0):\n",
    "        self.p_i = p_i  # infection probability\n",
    "        self.p_r = p_r  # recovery probability\n",
    "        self.randomize_graph = randomize_graph\n",
    "\n",
    "    def initialize(self):\n",
    "        self.graph = nx.connected_watts_strogatz_graph(30, 4, self.randomize_graph)\n",
    "        self.graph_layout = nx.spring_layout(self.graph)\n",
    "        for i in self.graph.nodes:\n",
    "            self.graph.nodes[i]['infected'] = (\n",
    "                1 if random.uniform(0, 1) < 0.5 else 0)\n",
    "        self.time = 0\n",
    "        self.density_history = []\n",
    "\n",
    "    def observe(self):\n",
    "        plt.cla()\n",
    "        plt.subplot(1, 2, 1)\n",
    "        nx.draw(\n",
    "            self.graph, vmin = 0, vmax = 1,\n",
    "            node_color = [self.graph.nodes[i]['infected'] for i in self.graph.nodes],\n",
    "            cmap = 'bwr',\n",
    "            pos = self.graph_layout)\n",
    "        plt.title('Step: ' + str(self.time))\n",
    "        plt.subplot(1, 2, 2)\n",
    "        plt.plot(range(1, len(self.density_history) + 1), self.density_history)\n",
    "        plt.ylim(0, 1)\n",
    "        plt.title('Proportion of population infected')\n",
    "        plt.show()\n",
    "\n",
    "    def update(self):\n",
    "        for _ in range(1000):\n",
    "            a = random.choice(list(self.graph.nodes))\n",
    "            if self.graph.nodes[a]['infected'] == 0:  # if susceptible\n",
    "                b = random.choice(list(self.graph.neighbors(a)))\n",
    "                if self.graph.nodes[b]['infected'] == 1:  # if neighbor b is infected\n",
    "                    self.graph.nodes[a]['infected'] = 1 if random.uniform(0, 1) < self.p_i else 0\n",
    "            else:  # if infected\n",
    "                self.graph.nodes[a]['infected'] = 0 if random.uniform(0, 1) < self.p_r else 1\n",
    "            self.time += 1\n",
    "            self.density_history.append(sum(self.graph.nodes[i]['infected'] \n",
    "                                            for i in self.graph.nodes) / len(self.graph.nodes))\n",
    "        return self.density_history[-1]"
   ]
  },
  {
   "cell_type": "code",
   "execution_count": 108,
   "metadata": {},
   "outputs": [
    {
     "data": {
      "text/html": [
       "<img src=\"animate_617555.gif\">"
      ],
      "text/plain": [
       "<IPython.core.display.HTML object>"
      ]
     },
     "metadata": {},
     "output_type": "display_data"
    }
   ],
   "source": [
    "infection_probability = 0.8  # Probability of one neighbor infecting another\n",
    "recovery_probability = 0.35  # Probability of recovery\n",
    "graph_randomness = .5        # 0 => not random; 1 => very random; 0.5 => somewhat random.\n",
    "\n",
    "sim = SisSimulation(infection_probability, recovery_probability, graph_randomness)\n",
    "sim.initialize()\n",
    "\n",
    "def animate_simulation(frame, total_frames):\n",
    "    # To speed things up we avoid plotting after every simulation update\n",
    "    steps_per_frame = 20\n",
    "    for _ in range(steps_per_frame):\n",
    "        sim.update()\n",
    "    sim.observe()\n",
    "\n",
    "make_animation(\n",
    "    animate_simulation, frames=10, interval=250,\n",
    "    figure_params={'figsize': (12, 5)},\n",
    "    verbose=True)"
   ]
  },
  {
   "cell_type": "code",
   "execution_count": 42,
   "metadata": {},
   "outputs": [],
   "source": [
    "val = [_/100 for _ in range(1,101)]\n",
    "matrix_qi = []\n",
    "for infec in val:\n",
    "    for recov in val:\n",
    "        sim = SisSimulation(infec, recov, 0)\n",
    "        sim.initialize()\n",
    "        result = sim.update()\n",
    "        matrix_qi.append(result)\n",
    "matrix_qii = np.array(matrix_qi)"
   ]
  },
  {
   "cell_type": "code",
   "execution_count": 97,
   "metadata": {},
   "outputs": [
    {
     "data": {
      "image/png": "[encoded data removed]",
      "text/plain": [
       "<Figure size 864x720 with 2 Axes>"
      ]
     },
     "metadata": {
      "needs_background": "light"
     },
     "output_type": "display_data"
    }
   ],
   "source": [
    "import seaborn as sns\n",
    "plt.figure(figsize=(12, 10))\n",
    "ax = sns.heatmap(matrix_qii.reshape((100,100)))\n",
    "ax.set_yticks(np.arange(0, 100, step=30))\n",
    "ax.set_xticks(np.arange(0, 100, step=40))\n",
    "plt.title('Simulation based on the variation of \\nInfection and Recovery',\n",
    "         fontsize=26)\n",
    "plt.xlabel('Recovery', fontsize=15)\n",
    "plt.ylabel('Infection', fontsize=15)\n",
    "plt.show()"
   ]
  }
 ],
 "metadata": {
  "kernelspec": {
   "display_name": "Python 3",
   "language": "python",
   "name": "python3"
  },
  "language_info": {
   "codemirror_mode": {
    "name": "ipython",
    "version": 3
   },
   "file_extension": ".py",
   "mimetype": "text/x-python",
   "name": "python",
   "nbconvert_exporter": "python",
   "pygments_lexer": "ipython3",
   "version": "3.7.1"
  }
 },
 "nbformat": 4,
 "nbformat_minor": 1
}
