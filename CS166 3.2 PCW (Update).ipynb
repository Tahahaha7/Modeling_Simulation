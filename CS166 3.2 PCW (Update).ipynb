{
 "cells": [
  {
   "cell_type": "markdown",
   "metadata": {},
   "source": [
    "### Goal\n",
    "Estimate the critical percolation threshold for the forest fire model but with Von Neumann neighborhoods. Confirm the analytical result by conducting simulations.\n",
    "\n",
    "### Task 1\n",
    "Repeat the renormalization group analysis in Sayama, but with **Von Neumann neighborhoods** (see Figure 11.2 in the textbook). Make your notes in this notebook or in a separate Google Doc, if that is easier."
   ]
  },
  {
   "cell_type": "markdown",
   "metadata": {},
   "source": [
    "<span class=\"minerva-question\" style='background-color:#5cb85c;padding: 5px 20px 5px 20px;line-height:30px;color:white;font-weight: bold; border-radius: 25px'>Question 1</span>\n",
    "\n",
    "What is the conductance of a 2 x 2 grid when using Von Neumann neighborhoods?"
   ]
  },
  {
   "cell_type": "markdown",
   "metadata": {},
   "source": [
    "$$p_2=p_1^4+4\\cdot p_1^3\\cdot\\left(1-p_1\\right)+2\\cdot p_1^2\\cdot\\left(1-p_1\\right)^2$$"
   ]
  },
  {
   "cell_type": "markdown",
   "metadata": {},
   "source": [
    "<span class=\"minerva-question\" style='background-color:#5cb85c;padding: 5px 20px 5px 20px;line-height:30px;color:white;font-weight: bold; border-radius: 25px'>Question 2</span>\n",
    "\n",
    "What is the conductance of a 2n x 2n grid in terms of a n x n grid? (That is, what is the scale mapping $p_{s+1} = \\Phi(p_s)$?)"
   ]
  },
  {
   "cell_type": "markdown",
   "metadata": {},
   "source": [
    "$$p_{s+1}=\\Phi\\left(p_s\\right)=p_s^4+4\\cdot p_s^3\\cdot\\left(1-p_s\\right)+2\\cdot p_s^2\\cdot\\left(1-p_s\\right)^2$$"
   ]
  },
  {
   "cell_type": "markdown",
   "metadata": {},
   "source": [
    "<span class=\"minerva-question\" style='background-color:#5cb85c;padding: 5px 20px 5px 20px;line-height:30px;color:white;font-weight: bold; border-radius: 25px'>Question 3</span>\n",
    "\n",
    "Make a cobweb plot of your result in Step 3."
   ]
  },
  {
   "cell_type": "code",
   "execution_count": 7,
   "metadata": {},
   "outputs": [
    {
     "data": {
      "image/png": "[encoded data removed]",
      "text/plain": [
       "<Figure size 576x576 with 1 Axes>"
      ]
     },
     "metadata": {
      "needs_background": "light"
     },
     "output_type": "display_data"
    }
   ],
   "source": [
    "import numpy as np\n",
    "def func(p):\n",
    "    return p**4 + 4*p**3*(1-p) + 2*p**2*(1-p)**2\n",
    "\n",
    "x = np.linspace(0,1, 100)\n",
    "theo_p = [func(_) for _ in x]\n",
    "diag = [_ for _ in x]\n",
    "plt.figure(figsize=(8, 8))\n",
    "plt.plot(x, theo_p, label=\"theoritical\")\n",
    "plt.plot(x, diag, label=\"diagonal\")\n",
    "plt.title(\"The theoritical results\")\n",
    "plt.xlabel(\"Initial probability\")\n",
    "plt.show()"
   ]
  },
  {
   "cell_type": "markdown",
   "metadata": {},
   "source": [
    "<span class=\"minerva-question\" style='background-color:#5cb85c;padding: 5px 20px 5px 20px;line-height:30px;color:white;font-weight: bold; border-radius: 25px'>Question 4</span>\n",
    "\n",
    "What is the critical initial tree density, $q$, where percolation starts occurring?"
   ]
  },
  {
   "cell_type": "markdown",
   "metadata": {},
   "source": [
    "$$p_c=p_c^4+4\\cdot p_c^3\\cdot\\left(1-p_c\\right)+2\\cdot p_c^2\\cdot\\left(1-p_c\\right)^2$$\n",
    "\n",
    "$$p_c=\\left\\{0,\\ 1,\\ -\\frac{1}{2}-\\sqrt{5},\\ -\\frac{1}{2}+\\sqrt{5}\\right\\}$$\n",
    "\n",
    "The point that we're interested in is when $0<p_c<1$ which in this case is:\n",
    "$$p_c=\\frac{-1+\\sqrt{5}}{2}=0.618034$$"
   ]
  },
  {
   "cell_type": "markdown",
   "metadata": {},
   "source": [
    "### Task 2\n",
    "\n",
    "* Modify the forest fire simulation below to use the Von Neumann neighborhood rather than the Moore neighborhood.\n",
    "* Generate a plot of the proportion of trees burnt out as a function of the initial tree density. (You can run the existing code to see what this looks like for the Moore neighborhood.)\n",
    "* How do your experimental results compare with your theoretical results from Task 1?"
   ]
  },
  {
   "cell_type": "code",
   "execution_count": 8,
   "metadata": {},
   "outputs": [],
   "source": [
    "import matplotlib.pyplot as plt\n",
    "import scipy as sp\n",
    "\n",
    "\n",
    "class ForestFireSimulation:\n",
    "\n",
    "    empty, tree, fire, char = [0, 1, 2, 3]  # Setup state values\n",
    "\n",
    "    def __init__(self, size=50):\n",
    "        self.size = size\n",
    "        self.state = sp.zeros((size, size))\n",
    "\n",
    "    def initialize(self, tree_density=0.4):\n",
    "\n",
    "        self.state.fill(self.empty)\n",
    "\n",
    "        # Place random trees with the requested density\n",
    "        random_indexes = sp.random.choice(\n",
    "            range(self.size ** 2),\n",
    "            size=int(round(tree_density * self.size ** 2)),\n",
    "            replace=False)\n",
    "        self.state.flat[random_indexes] = self.tree\n",
    "\n",
    "        # Ignite one random tree\n",
    "        if len(random_indexes) > 0:\n",
    "            self.state.flat[random_indexes[0]] = self.fire\n",
    "\n",
    "        self.time_step = 0\n",
    "        self.changed = True  # Track whether the state changed between the\n",
    "                             # previous time step and the current one\n",
    "\n",
    "    def draw(self):\n",
    "        plt.cla()\n",
    "        plt.pcolor(self.state, vmin = 0, vmax = 3, cmap = plt.cm.binary)\n",
    "        plt.axis('image')\n",
    "        plt.title('t = ' + str(self.time_step))\n",
    "\n",
    "    def update(self):\n",
    "        self.time_step += 1\n",
    "\n",
    "        next_state = sp.zeros(self.state.shape)\n",
    "        # Empty cells stay empty\n",
    "        next_state[sp.where(self.state == self.empty)] = self.empty\n",
    "        # Charred cells stay charred\n",
    "        next_state[sp.where(self.state == self.char)] = self.char\n",
    "        # Burning cells become charred\n",
    "        next_state[sp.where(self.state == self.fire)] = self.char\n",
    "\n",
    "        # Check which trees should be ignited (all those with fire neighbors)\n",
    "        ys, xs = sp.where(self.state == self.tree)\n",
    "        fire_neighbor = sp.zeros(len(xs), dtype=bool)\n",
    "        #Moore Neighborhood\n",
    "        for dx in [-1, 0, 1]:\n",
    "            fire_neighbor = fire_neighbor | (self.state[(ys) % self.size, (xs + dx) % self.size] == self.fire)\n",
    "        for dy in [-1, 0, 1]:\n",
    "            fire_neighbor = fire_neighbor | (self.state[(ys + dy) % self.size, (xs) % self.size] == self.fire)\n",
    "        # Trees with burning neighbors start burning\n",
    "        next_state[(ys[fire_neighbor], xs[fire_neighbor])] = self.fire\n",
    "        # Trees without burning neighbors stay the same\n",
    "        next_state[(ys[~fire_neighbor], xs[~fire_neighbor])] = self.tree\n",
    "\n",
    "        self.changed = (next_state != self.state).any()\n",
    "        self.state = next_state"
   ]
  },
  {
   "cell_type": "code",
   "execution_count": 9,
   "metadata": {},
   "outputs": [
    {
     "data": {
      "image/png": "[encoded data removed]",
      "text/plain": [
       "<Figure size 432x288 with 1 Axes>"
      ]
     },
     "metadata": {
      "needs_background": "light"
     },
     "output_type": "display_data"
    },
    {
     "data": {
      "image/png": "[encoded data removed]",
      "text/plain": [
       "<Figure size 432x288 with 1 Axes>"
      ]
     },
     "metadata": {
      "needs_background": "light"
     },
     "output_type": "display_data"
    }
   ],
   "source": [
    "sim = ForestFireSimulation()\n",
    "\n",
    "# The initial tree density at which all trees will burn out according\n",
    "# to the renormalization group analysis, shown on the plots below.\n",
    "theoretical_critical = 0.618034\n",
    "\n",
    "# Run experiments and record data for the result plots\n",
    "plot_data = {\n",
    "    'prob': [],   # The initial tree density\n",
    "    'burnt': [],  # The proportion of trees that burned out\n",
    "    'time': []}   # The number of steps for the simulation to stabilize\n",
    "for experiment in range(300):\n",
    "    tree_density = sp.random.uniform(0.01, 1)\n",
    "    sim.initialize(tree_density)\n",
    "    while sim.changed:  # Run until the state stops changing\n",
    "        sim.update()\n",
    "    plot_data['prob'].append(tree_density)\n",
    "    plot_data['time'].append(sim.time_step)\n",
    "    plot_data['burnt'].append((sim.state == sim.char).mean() / tree_density)\n",
    "\n",
    "# Plot experimental results\n",
    "plt.figure()\n",
    "plt.plot(plot_data['prob'], plot_data['burnt'], 'k.')\n",
    "plt.plot([theoretical_critical, theoretical_critical], [0, 1], 'r--')\n",
    "plt.ylim(0, 1)\n",
    "plt.title('Proportion of trees burnt out')\n",
    "\n",
    "plt.figure()\n",
    "plt.plot(plot_data['prob'], plot_data['time'], 'k.')\n",
    "plt.plot([theoretical_critical, theoretical_critical], [0, max(plot_data['time'])], 'r--')\n",
    "plt.ylim(0, max(plot_data['time']))\n",
    "plt.title('Number of steps before stable state')\n",
    "\n",
    "plt.show()"
   ]
  },
  {
   "cell_type": "markdown",
   "metadata": {},
   "source": [
    "## Cobweb Plot algorithm"
   ]
  },
  {
   "cell_type": "code",
   "execution_count": 0,
   "metadata": {},
   "outputs": [],
   "source": [
    "# Way to make Cobweb plots with Latex titles\n",
    "# Code from https://scipython.com/blog/cobweb-plots/\n",
    "import numpy as np\n",
    "from matplotlib import rc\n",
    "import matplotlib.pyplot as plt\n",
    "\n",
    "# Use LaTeX throughout the figure for consistency\n",
    "rc('font', **{'family': 'serif', 'serif': ['Computer Modern'], 'size': 16})\n",
    "rc('text', usetex=True)\n",
    "# Figure dpi\n",
    "dpi = 72\n",
    "\n",
    "def plot_cobweb(f, r, x0, nmax=40):\n",
    "    \"\"\"Make a cobweb plot.\n",
    "\n",
    "    Plot y = f(x; r) and y = x for 0 <= x <= 1, and illustrate the behaviour of\n",
    "    iterating x = f(x) starting at x = x0. r is a parameter to the function.\n",
    "\n",
    "    \"\"\"\n",
    "    x = np.linspace(0, 1, 500)\n",
    "    fig = plt.figure(figsize=(600/dpi, 450/dpi), dpi=dpi)\n",
    "    ax = fig.add_subplot(111)\n",
    "\n",
    "    # Plot y = f(x) and y = x\n",
    "    ax.plot(x, f(x, r), c='#444444', lw=2)\n",
    "    ax.plot(x, x, c='#444444', lw=2)\n",
    "\n",
    "    # Iterate x = f(x) for nmax steps, starting at (x0, 0).\n",
    "    px, py = np.empty((2,nmax+1,2))\n",
    "    px[0], py[0] = x0, 0\n",
    "    for n in range(1, nmax, 2):\n",
    "        px[n] = px[n-1]\n",
    "        py[n] = f(px[n-1], r)\n",
    "        px[n+1] = py[n]\n",
    "        py[n+1] = py[n]\n",
    "\n",
    "    # Plot the path traced out by the iteration.\n",
    "    ax.plot(px, py, c='b', alpha=0.7)\n",
    "\n",
    "    # Annotate and tidy the plot.\n",
    "    ax.minorticks_on()\n",
    "    ax.grid(which='minor', alpha=0.5)\n",
    "    ax.grid(which='major', alpha=0.5)\n",
    "    ax.set_aspect('equal')\n",
    "    ax.set_xlabel('$x$')\n",
    "    ax.set_ylabel(f.latex_label)\n",
    "    ax.set_title('$x_0 = {:.1}, r = {:.2}$'.format(x0, r))\n",
    "\n",
    "    plt.savefig('cobweb_{:.1}_{:.2}.png'.format(x0, r), dpi=dpi)\n",
    "\n",
    "class AnnotatedFunction:\n",
    "    \"\"\"A small class representing a mathematical function.\n",
    "\n",
    "    This class is callable so it acts like a Python function, but it also\n",
    "    defines a string giving its latex representation.\n",
    "\n",
    "    \"\"\"\n",
    "\n",
    "    def __init__(self, func, latex_label):\n",
    "        self.func = func\n",
    "        self.latex_label = latex_label\n",
    "\n",
    "    def __call__(self, *args, **kwargs):\n",
    "        return self.func(*args, **kwargs)\n",
    "\n",
    "# The logistic map, f(x) = rx(1-x).\n",
    "func = AnnotatedFunction(lambda x,r: x**4 + 4*x**3*(1-x) + 2*x**2*(1-x)**2, r'$rx(1-x)$')\n",
    "\n",
    "plot_cobweb(func, 2.8, 0.2)\n",
    "plot_cobweb(func, 3.8, 0.2, 200)"
   ]
  }
 ],
 "metadata": {
  "kernelspec": {
   "display_name": "Python 3",
   "language": "python",
   "name": "python3"
  },
  "language_info": {
   "codemirror_mode": {
    "name": "ipython",
    "version": 3
   },
   "file_extension": ".py",
   "mimetype": "text/x-python",
   "name": "python",
   "nbconvert_exporter": "python",
   "pygments_lexer": "ipython3",
   "version": "3.7.1"
  }
 },
 "nbformat": 4,
 "nbformat_minor": 1
}
