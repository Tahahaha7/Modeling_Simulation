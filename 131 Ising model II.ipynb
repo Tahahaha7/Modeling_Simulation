{
  "nbformat": 4,
  "nbformat_minor": 0,
  "metadata": {
    "kernelspec": {
      "display_name": "Python 3",
      "language": "python",
      "name": "python3"
    },
    "language_info": {
      "codemirror_mode": {
        "name": "ipython",
        "version": 3
      },
      "file_extension": ".py",
      "mimetype": "text/x-python",
      "name": "python",
      "nbconvert_exporter": "python",
      "pygments_lexer": "ipython3",
      "version": "3.7.1"
    },
    "colab": {
      "name": "CS166 13.1 PCW.ipynb",
      "provenance": []
    }
  },
  "cells": [
    {
      "cell_type": "markdown",
      "metadata": {
        "id": "yh9gchfSNV3_",
        "colab_type": "text"
      },
      "source": [
        "# The Ising model II"
      ]
    },
    {
      "cell_type": "code",
      "metadata": {
        "id": "MS0sTQr0NV4C",
        "colab_type": "code",
        "colab": {}
      },
      "source": [
        "import scipy\n",
        "from matplotlib import pyplot as plt"
      ],
      "execution_count": 0,
      "outputs": []
    },
    {
      "cell_type": "code",
      "metadata": {
        "id": "zgsIPOW4NV4H",
        "colab_type": "code",
        "colab": {}
      },
      "source": [
        "class IsingSimulation:\n",
        "\n",
        "    J = 6.34369e-21  # Interaction constant for iron [Joule]\n",
        "    kB = 1.38065e-23  # Boltzmann constant [Joule / Kelvin]\n",
        "\n",
        "    def __init__(self, size, temperature=300):\n",
        "        '''\n",
        "        Create a new Ising model simulation. The state is initialized\n",
        "        randomly.\n",
        "\n",
        "        Arguments:\n",
        "\n",
        "            size (int) The number of cells along each dimension of the\n",
        "              square grid.\n",
        "\n",
        "            temperature (float) The temperature in Kelvin at which to\n",
        "              run the simulation. The Curie temperature for iron is\n",
        "              1043 K. Room temperature is about 300 K. Default: 300.\n",
        "        '''\n",
        "        self.size = size\n",
        "        self.temperature = temperature\n",
        "        self.state = scipy.random.choice(\n",
        "            [-1, +1], size=(self.size, self.size))\n",
        "        self.step = 0\n",
        "\n",
        "    def set_temperature(self, temp):\n",
        "        '''\n",
        "        Set the temperature of the model in Kelvin.\n",
        "        '''\n",
        "        self.temperature = float(temp)\n",
        "\n",
        "    def energy(self):\n",
        "        '''\n",
        "        Compute the energy of the current state of the model.\n",
        "        '''\n",
        "        return -self.J * (self.state * (\n",
        "            scipy.roll(self.state, 1, axis=0) +\n",
        "            scipy.roll(self.state, 1, axis=1))).sum()\n",
        "\n",
        "    def average_magnetism(self):\n",
        "        '''\n",
        "        Compute the average per-cell magnetism of the current state\n",
        "        of the model.\n",
        "        '''\n",
        "        return self.state.mean()\n",
        "        \n",
        "    def update(self, annealing=False, ann_iter=0):\n",
        "        '''\n",
        "        Do a single cell update of the model state.\n",
        "        '''\n",
        "        # Pick a random cell to flip\n",
        "        i, j = scipy.random.randint(self.size, size=2)\n",
        "\n",
        "        # Change in energy from current state to next state\n",
        "        delta_E = 2 * self.J * self.state[i,j] * (\n",
        "            self.state[(i + 1) % self.size, j] +\n",
        "            self.state[(i - 1) % self.size, j] +\n",
        "            self.state[i, (j + 1) % self.size] +\n",
        "            self.state[i, (j - 1) % self.size])\n",
        "\n",
        "        # Log probability of changing state\n",
        "        log_p = -delta_E / (self.temperature * self.kB)\n",
        "        if scipy.log(scipy.random.uniform(0, 1)) < log_p:\n",
        "            self.state[i,j] = -self.state[i,j]\n",
        "        \n",
        "        self.step += 1\n",
        "        \n",
        "        if annealing:\n",
        "            if self.step%ann_iter==0 and self.temperature>1:\n",
        "                self.temperature -= 1\n",
        "\n",
        "    def display(self):\n",
        "        '''\n",
        "        Plot the state of the model.\n",
        "        '''\n",
        "        plt.imshow(self.state, vmin=-1, vmax=+1)\n",
        "        plt.title('Temperature: '+ str(self.temperature) + '\\nStep: ' + \\\n",
        "                  str(self.step) + ', M = ' + str(self.average_magnetism()))"
      ],
      "execution_count": 0,
      "outputs": []
    },
    {
      "cell_type": "code",
      "metadata": {
        "id": "7Kk7ecZaNV4M",
        "colab_type": "code",
        "colab": {
          "base_uri": "https://localhost:8080/",
          "height": 476
        },
        "outputId": "bf9525c2-b831-41ef-ce96-deef3b1b575f"
      },
      "source": [
        "size = 20\n",
        "\n",
        "plt.figure( figsize=(17, 7))\n",
        "plt.subplot(1,2,1)\n",
        "# Ising model at the Curie temperature\n",
        "sim = IsingSimulation(size, temperature=1043)\n",
        "for _ in range(10**5):\n",
        "    sim.update()\n",
        "sim.display()\n",
        "\n",
        "\n",
        "plt.subplot(1,2,2)\n",
        "sim = IsingSimulation(size, temperature=1)\n",
        "for _ in range(10**5):\n",
        "    sim.update()\n",
        "sim.display()\n",
        "plt.show()"
      ],
      "execution_count": 7,
      "outputs": [
        {
          "output_type": "stream",
          "text": [
            "/usr/local/lib/python3.6/dist-packages/ipykernel_launcher.py:85: DeprecationWarning: scipy.log is deprecated and will be removed in SciPy 2.0.0, use numpy.lib.scimath.log instead\n"
          ],
          "name": "stderr"
        },
        {
          "output_type": "display_data",
          "data": {
            "image/png": "[encoded data removed]",
            "text/plain": [
              "<Figure size 1224x504 with 2 Axes>"
            ]
          },
          "metadata": {
            "tags": []
          }
        }
      ]
    },
    {
      "cell_type": "markdown",
      "metadata": {
        "id": "ohXFOy4UNV4S",
        "colab_type": "text"
      },
      "source": [
        "# Task I\n",
        "From the study guide, we know that the Boltzmann distribution tells us what the probability is of observing a state at equilibrium. At low temperatures, we expect the states where all cells have the same sign (either all + or all – ) to be much more probable than any other state. So if we start from a random initial state, we should drop into one of those two states eventually.\n",
        "\n",
        "Test whether this indeed happens.\n",
        "\n",
        "- Randomly initialize the simulation, set the temperature to 1 (that is 1 Kelvin, which is close to absolute 0 — a theoretically unobtainable temperature), and wait for the simulation state to stabilize (this might take up to 100,000 steps).\n",
        "- Measure the average magnetization of the final state.\n",
        "- Repeat this simulation a number of times to get a probability distribution over the average magnetization. Theoretically, the distribution should be evenly split between +1 and –1, but you will find that the simulation often gets stuck in a suboptimal state with a different average magnetization."
      ]
    },
    {
      "cell_type": "code",
      "metadata": {
        "id": "nS7wJX8PNV4T",
        "colab_type": "code",
        "colab": {}
      },
      "source": [
        "def run_sim(T, steps):\n",
        "    size = 20\n",
        "    sim = IsingSimulation(size, temperature=T)\n",
        "    for _ in range(steps):\n",
        "        sim.update()\n",
        "    return sim.average_magnetism()"
      ],
      "execution_count": 0,
      "outputs": []
    },
    {
      "cell_type": "code",
      "metadata": {
        "id": "Eb-BGGhZNV4W",
        "colab_type": "code",
        "colab": {
          "base_uri": "https://localhost:8080/",
          "height": 202
        },
        "outputId": "8b26722c-db65-45ad-aa4a-54f36c47181b"
      },
      "source": [
        "meas = []\n",
        "for _ in range(100):\n",
        "    if _%10==0: print('processing {}'.format(_))\n",
        "    meas.append(run_sim(1, 10**5))"
      ],
      "execution_count": 22,
      "outputs": [
        {
          "output_type": "stream",
          "text": [
            "processing 0\n"
          ],
          "name": "stdout"
        },
        {
          "output_type": "stream",
          "text": [
            "/usr/local/lib/python3.6/dist-packages/ipykernel_launcher.py:85: DeprecationWarning: scipy.log is deprecated and will be removed in SciPy 2.0.0, use numpy.lib.scimath.log instead\n"
          ],
          "name": "stderr"
        },
        {
          "output_type": "stream",
          "text": [
            "processing 10\n",
            "processing 20\n",
            "processing 30\n",
            "processing 40\n",
            "processing 50\n",
            "processing 60\n",
            "processing 70\n",
            "processing 80\n",
            "processing 90\n"
          ],
          "name": "stdout"
        }
      ]
    },
    {
      "cell_type": "code",
      "metadata": {
        "id": "BE15IQNPNV4Z",
        "colab_type": "code",
        "colab": {
          "base_uri": "https://localhost:8080/",
          "height": 336
        },
        "outputId": "056d64d2-3cfc-41e6-a12c-6f1a533e5762"
      },
      "source": [
        "plt.figure(figsize=(12, 5))\n",
        "plt.hist(meas, bins=20, density=False)\n",
        "plt.xlim(-1, 1)\n",
        "plt.title('The distribution of the average magnetism')\n",
        "plt.show()"
      ],
      "execution_count": 24,
      "outputs": [
        {
          "output_type": "display_data",
          "data": {
            "image/png": "[encoded data removed]",
            "text/plain": [
              "<Figure size 864x360 with 1 Axes>"
            ]
          },
          "metadata": {
            "tags": []
          }
        }
      ]
    },
    {
      "cell_type": "markdown",
      "metadata": {
        "id": "tvdCGn9_R-K3",
        "colab_type": "text"
      },
      "source": [
        "- Explain what would happen to the acceptance probability of the update step if the temperature is set to 0. This motivates why we always set the temperature at least slightly greater than 0.\n",
        "\n",
        "$$p\\left(x\\right)\\propto e^{-\\frac{E\\left(x\\right)}{T}}$$\n",
        "\n",
        "$$\\frac{p\\left(y\\right)}{p\\left(x\\right)}=e^{\\frac{E\\left(x\\right)-E\\left(y\\right)}{T}}$$\n",
        "\n",
        "$$\\frac{p\\left(y\\right)}{p\\left(x\\right)}=e^{\\frac{^{-2\\times s_{i,j}\\sum_{i,j}^{\\left[-1,1\\right]}s_{i,j}}}{T}}$$ \\\\\n",
        "\n",
        "If the temperature is set to 0 then the acceptance probability cannot be computed because we can't divide over 0. As the value of the temperature tends towards 0 then the acceptance probability would converge towards 1. "
      ]
    },
    {
      "cell_type": "markdown",
      "metadata": {
        "id": "D8o8gPevNV4d",
        "colab_type": "text"
      },
      "source": [
        "# Task II\n",
        "- Start from a random initial state, as before, but rather than setting the temperature to 1 K straight away, start from T = 2000 K and decrease it by 1 K after every 100 update steps until you reach a value of T = 1 K. Wait for the simulation state to stabilize.\n",
        "- What is the distribution over average magnetization now? (You can get even better results by decreasing the temperature more slowly, for example, 1 K after every 400 steps.)"
      ]
    },
    {
      "cell_type": "code",
      "metadata": {
        "id": "UBieT3wbNV4i",
        "colab_type": "code",
        "colab": {}
      },
      "source": [
        "def run_sim_ann(T, steps, ann_iter):\n",
        "    size = 20\n",
        "    sim = IsingSimulation(size, temperature=T)\n",
        "    for _ in range(steps):\n",
        "        sim.update(annealing=True, ann_iter=ann_iter)\n",
        "    return sim.average_magnetism()"
      ],
      "execution_count": 0,
      "outputs": []
    },
    {
      "cell_type": "code",
      "metadata": {
        "id": "n4GxanjENV4k",
        "colab_type": "code",
        "colab": {
          "base_uri": "https://localhost:8080/",
          "height": 202
        },
        "outputId": "e6d334fb-04ab-4509-c6f1-3bf1414b814a"
      },
      "source": [
        "# FOR DECREMENTING TEMPERATURE EVERY 200 STEPS\n",
        "meas_200 = []\n",
        "for _ in range(100):\n",
        "    if _%10==0: print('processing {}'.format(_))\n",
        "    meas_200.append(run_sim_ann(2000, 5*10**5, 200))"
      ],
      "execution_count": 15,
      "outputs": [
        {
          "output_type": "stream",
          "text": [
            "processing 0\n"
          ],
          "name": "stdout"
        },
        {
          "output_type": "stream",
          "text": [
            "/usr/local/lib/python3.6/dist-packages/ipykernel_launcher.py:85: DeprecationWarning: scipy.log is deprecated and will be removed in SciPy 2.0.0, use numpy.lib.scimath.log instead\n"
          ],
          "name": "stderr"
        },
        {
          "output_type": "stream",
          "text": [
            "processing 10\n",
            "processing 20\n",
            "processing 30\n",
            "processing 40\n",
            "processing 50\n",
            "processing 60\n",
            "processing 70\n",
            "processing 80\n",
            "processing 90\n"
          ],
          "name": "stdout"
        }
      ]
    },
    {
      "cell_type": "code",
      "metadata": {
        "id": "14uRySDoNV4n",
        "colab_type": "code",
        "colab": {
          "base_uri": "https://localhost:8080/",
          "height": 336
        },
        "outputId": "0199c9c0-9d68-472a-c232-213c0bd66c04"
      },
      "source": [
        "plt.figure(figsize=(10, 5))\n",
        "plt.hist(meas_200, bins=20)\n",
        "plt.xlim(-1, 1)\n",
        "plt.title('The distribution of the average magnetism')\n",
        "plt.show()"
      ],
      "execution_count": 25,
      "outputs": [
        {
          "output_type": "display_data",
          "data": {
            "image/png": "[encoded data removed]",
            "text/plain": [
              "<Figure size 720x360 with 1 Axes>"
            ]
          },
          "metadata": {
            "tags": []
          }
        }
      ]
    },
    {
      "cell_type": "code",
      "metadata": {
        "id": "PQQA5sGxNV4w",
        "colab_type": "code",
        "colab": {
          "base_uri": "https://localhost:8080/",
          "height": 202
        },
        "outputId": "9bfe09ea-3cf4-4a2a-c18f-9a4d1e2ab423"
      },
      "source": [
        "# FOR DECREMENTING TEMPERATURE EVERY 400 STEPS\n",
        "meas_400 = []\n",
        "for _ in range(100):\n",
        "    if _%10==0: print('processing {}'.format(_))\n",
        "    meas_400.append(run_sim_ann(2000, 10**6, 400))"
      ],
      "execution_count": 18,
      "outputs": [
        {
          "output_type": "stream",
          "text": [
            "processing 0\n"
          ],
          "name": "stdout"
        },
        {
          "output_type": "stream",
          "text": [
            "/usr/local/lib/python3.6/dist-packages/ipykernel_launcher.py:85: DeprecationWarning: scipy.log is deprecated and will be removed in SciPy 2.0.0, use numpy.lib.scimath.log instead\n"
          ],
          "name": "stderr"
        },
        {
          "output_type": "stream",
          "text": [
            "processing 10\n",
            "processing 20\n",
            "processing 30\n",
            "processing 40\n",
            "processing 50\n",
            "processing 60\n",
            "processing 70\n",
            "processing 80\n",
            "processing 90\n"
          ],
          "name": "stdout"
        }
      ]
    },
    {
      "cell_type": "code",
      "metadata": {
        "id": "_6eqrdDPNV4z",
        "colab_type": "code",
        "colab": {
          "base_uri": "https://localhost:8080/",
          "height": 336
        },
        "outputId": "a339e52f-9d5f-4eb6-f03b-57e27df1a58c"
      },
      "source": [
        "plt.figure(figsize=(10, 5))\n",
        "plt.hist(meas_400, bins=20)\n",
        "plt.xlim(-1, 1)\n",
        "plt.title('The distribution of the average magnetism')\n",
        "plt.show()"
      ],
      "execution_count": 26,
      "outputs": [
        {
          "output_type": "display_data",
          "data": {
            "image/png": "[encoded data removed]",
            "text/plain": [
              "<Figure size 720x360 with 1 Axes>"
            ]
          },
          "metadata": {
            "tags": []
          }
        }
      ]
    },
    {
      "cell_type": "markdown",
      "metadata": {
        "id": "H17C3rm0VyDj",
        "colab_type": "text"
      },
      "source": [
        "As opposed to running the simulation for temperature equal to 1, the distribution for using simulation annealing set to either 1 or -1."
      ]
    }
  ]
}
